{
 "cells": [
  {
   "cell_type": "code",
   "execution_count": 82,
   "outputs": [],
   "source": [
    "import pandas as pd\n",
    "import seaborn as sn\n",
    "import numpy as np\n",
    "from matplotlib import pyplot as plt\n",
    "from sklearn.preprocessing import OneHotEncoder\n",
    "from sklearn.ensemble import GradientBoostingClassifier\n",
    "from sklearn.ensemble import RandomForestClassifier\n",
    "from sklearn.linear_model import LogisticRegression\n",
    "from sklearn.model_selection import cross_val_score\n",
    "from sklearn.inspection import permutation_importance\n",
    "\n",
    "def compute_score(clf, X, y):\n",
    "    xval = cross_val_score(clf, X, y, cv=5)\n",
    "    return np.mean(xval)"
   ],
   "metadata": {
    "collapsed": false
   }
  },
  {
   "cell_type": "markdown",
   "source": [
    "# Réponse TP2\n",
    "## HEBAN Simon\n",
    "\n",
    "# Partie 1 : les données\n"
   ],
   "metadata": {
    "collapsed": false
   }
  },
  {
   "cell_type": "code",
   "execution_count": 53,
   "metadata": {
    "collapsed": true
   },
   "outputs": [
    {
     "name": "stdout",
     "output_type": "stream",
     "text": [
      "   PassengerId  Survived  Pclass  \\\n",
      "0            1         0       3   \n",
      "1            2         1       1   \n",
      "2            3         1       3   \n",
      "3            4         1       1   \n",
      "4            5         0       3   \n",
      "5            6         0       3   \n",
      "6            7         0       1   \n",
      "7            8         0       3   \n",
      "8            9         1       3   \n",
      "9           10         1       2   \n",
      "\n",
      "                                                Name     Sex   Age  SibSp  \\\n",
      "0                            Braund, Mr. Owen Harris    male  22.0      1   \n",
      "1  Cumings, Mrs. John Bradley (Florence Briggs Th...  female  38.0      1   \n",
      "2                             Heikkinen, Miss. Laina  female  26.0      0   \n",
      "3       Futrelle, Mrs. Jacques Heath (Lily May Peel)  female  35.0      1   \n",
      "4                           Allen, Mr. William Henry    male  35.0      0   \n",
      "5                                   Moran, Mr. James    male   NaN      0   \n",
      "6                            McCarthy, Mr. Timothy J    male  54.0      0   \n",
      "7                     Palsson, Master. Gosta Leonard    male   2.0      3   \n",
      "8  Johnson, Mrs. Oscar W (Elisabeth Vilhelmina Berg)  female  27.0      0   \n",
      "9                Nasser, Mrs. Nicholas (Adele Achem)  female  14.0      1   \n",
      "\n",
      "   Parch            Ticket     Fare Cabin Embarked  \n",
      "0      0         A/5 21171   7.2500   NaN        S  \n",
      "1      0          PC 17599  71.2833   C85        C  \n",
      "2      0  STON/O2. 3101282   7.9250   NaN        S  \n",
      "3      0            113803  53.1000  C123        S  \n",
      "4      0            373450   8.0500   NaN        S  \n",
      "5      0            330877   8.4583   NaN        Q  \n",
      "6      0             17463  51.8625   E46        S  \n",
      "7      1            349909  21.0750   NaN        S  \n",
      "8      2            347742  11.1333   NaN        S  \n",
      "9      0            237736  30.0708   NaN        C  \n",
      "Index(['Survived', 'Pclass', 'Name', 'Sex', 'Age', 'SibSp', 'Parch', 'Ticket',\n",
      "       'Fare', 'Cabin', 'Embarked'],\n",
      "      dtype='object')\n"
     ]
    }
   ],
   "source": [
    "train = pd.read_csv('data/titanic_train.csv', sep=',')\n",
    "pd.set_option('display.max_columns', None)\n",
    "print(train.head(10))\n",
    "train.set_index('PassengerId', inplace=True, drop=True)\n",
    "print(train.columns)"
   ]
  },
  {
   "cell_type": "markdown",
   "source": [
    "#### Question 3\n",
    "\n",
    "- Survived : La personne à t'elle survécu type booléen (0=non;1=oui)\n",
    "- PClass : Classe de la personne\n",
    "  - 1 : Première classe\n",
    "  - 2 : Seconde classe\n",
    "  - 3 : Troisème classe\n",
    "- Name : Nom sur le ticket\n",
    "- Sex : Male ou female\n",
    "- Age: Age (Possiblement NaN)\n",
    "- SibSp : Nombre de frères et sœurs / conjoints à bord\n",
    "- Parch : Nombre de parents / enfants à bord du Titanic\n",
    "- Ticket : Numéro du ticket\n",
    "- Fare : Tarif passager\n",
    "- Cabin : Numéro de cabine (possiblement Nan)\n",
    "- Embarked : Port d'embarquement\n",
    "  - C = Cherbourg\n",
    "  - Q = Queenstown\n",
    "  - S = Southampton"
   ],
   "metadata": {
    "collapsed": false
   }
  },
  {
   "cell_type": "markdown",
   "source": [
    "# Partie 2 : Premier modèle de niveau 0"
   ],
   "metadata": {
    "collapsed": false
   }
  },
  {
   "cell_type": "code",
   "execution_count": 54,
   "outputs": [
    {
     "name": "stdout",
     "output_type": "stream",
     "text": [
      "   PassengerId  Survived  Pclass  \\\n",
      "0            1         0       3   \n",
      "1            2         1       1   \n",
      "2            3         1       3   \n",
      "3            4         1       1   \n",
      "4            5         0       3   \n",
      "5            6         0       3   \n",
      "6            7         0       1   \n",
      "7            8         0       3   \n",
      "8            9         1       3   \n",
      "9           10         1       2   \n",
      "\n",
      "                                                Name     Sex   Age  SibSp  \\\n",
      "0                            Braund, Mr. Owen Harris    male  22.0      1   \n",
      "1  Cumings, Mrs. John Bradley (Florence Briggs Th...  female  38.0      1   \n",
      "2                             Heikkinen, Miss. Laina  female  26.0      0   \n",
      "3       Futrelle, Mrs. Jacques Heath (Lily May Peel)  female  35.0      1   \n",
      "4                           Allen, Mr. William Henry    male  35.0      0   \n",
      "5                                   Moran, Mr. James    male   NaN      0   \n",
      "6                            McCarthy, Mr. Timothy J    male  54.0      0   \n",
      "7                     Palsson, Master. Gosta Leonard    male   2.0      3   \n",
      "8  Johnson, Mrs. Oscar W (Elisabeth Vilhelmina Berg)  female  27.0      0   \n",
      "9                Nasser, Mrs. Nicholas (Adele Achem)  female  14.0      1   \n",
      "\n",
      "   Parch            Ticket     Fare Cabin Embarked  \n",
      "0      0         A/5 21171   7.2500   NaN        S  \n",
      "1      0          PC 17599  71.2833   C85        C  \n",
      "2      0  STON/O2. 3101282   7.9250   NaN        S  \n",
      "3      0            113803  53.1000  C123        S  \n",
      "4      0            373450   8.0500   NaN        S  \n",
      "5      0            330877   8.4583   NaN        Q  \n",
      "6      0             17463  51.8625   E46        S  \n",
      "7      1            349909  21.0750   NaN        S  \n",
      "8      2            347742  11.1333   NaN        S  \n",
      "9      0            237736  30.0708   NaN        C  \n",
      "Index(['Survived', 'Pclass', 'Name', 'Sex', 'Age', 'SibSp', 'Parch', 'Ticket',\n",
      "       'Fare', 'Cabin', 'Embarked'],\n",
      "      dtype='object')\n",
      "Moyenne des scores de la régression logistique :  0.6746092524009792\n"
     ]
    }
   ],
   "source": [
    "def parse_model_0(X):\n",
    "    target = X.Survived\n",
    "    X = X[['Fare', 'SibSp', 'Parch']]\n",
    "    return X, target\n",
    "\n",
    "train = pd.read_csv('data/titanic_train.csv', sep=',')\n",
    "pd.set_option('display.max_columns', None)\n",
    "print(train.head(10))\n",
    "train.set_index('PassengerId', inplace=True, drop=True)\n",
    "print(train.columns)\n",
    "\n",
    "X, y = parse_model_0(train.copy())\n",
    "print(\"Moyenne des scores de la régression logistique : \", compute_score(LogisticRegression(), X,y))"
   ],
   "metadata": {
    "collapsed": false
   }
  },
  {
   "cell_type": "markdown",
   "source": [
    "## Question 2\n",
    "\n",
    "Nous utilisons la validation croisée, car l'échantillon de données est trop faible. On ne pourrait pas prendre N données pour apprendre et Y données pour tester, parce qu'on se retrouverait avec trop peu de données."
   ],
   "metadata": {
    "collapsed": false
   }
  },
  {
   "cell_type": "markdown",
   "source": [
    "# Partie 3 : Deuxième modèle"
   ],
   "metadata": {
    "collapsed": false
   }
  },
  {
   "cell_type": "code",
   "execution_count": 55,
   "outputs": [],
   "source": [
    "train = pd.read_csv('data/titanic_train.csv', sep=',')\n",
    "train.set_index('PassengerId', inplace=True, drop=True)\n",
    "survived = train[train.Survived == 1]\n",
    "dead = train[train.Survived == 0]"
   ],
   "metadata": {
    "collapsed": false
   }
  },
  {
   "cell_type": "code",
   "execution_count": 56,
   "outputs": [
    {
     "data": {
      "text/plain": "<Figure size 432x288 with 1 Axes>",
      "image/png": "[encoded data removed]"
     },
     "metadata": {},
     "output_type": "display_data"
    }
   ],
   "source": [
    "def plot_hist(feature, bins=20):\n",
    "    x1 = np.array(dead[feature].dropna())\n",
    "    x2 = np.array(survived[feature].dropna())\n",
    "    plt.hist([x1, x2], label=['Victime', 'Survivant'], bins=bins)\n",
    "    plt.legend(loc='upper left')\n",
    "    plt.title('Distribution relative de %s' % feature)\n",
    "    plt.show()\n",
    "\n",
    "plot_hist('Pclass')"
   ],
   "metadata": {
    "collapsed": false
   }
  },
  {
   "cell_type": "markdown",
   "source": [
    "## Question 3\n",
    "La variable PClass semble être importante, elle montre que la 3ᵉ classe a subi beaucoup plus de perte que les autres. Elle parait néanmoins moins utile pour discriminer les catégories 1 et 2."
   ],
   "metadata": {
    "collapsed": false
   }
  },
  {
   "cell_type": "code",
   "execution_count": 57,
   "outputs": [],
   "source": [
    "def parse_model_1(X):\n",
    "    target = X.Survived\n",
    "    class_dummies = pd.get_dummies(X['Pclass'], prefix='split_Pclass')\n",
    "    X = X.join(class_dummies)\n",
    "    to_del = ['Name', 'Age', 'Cabin', 'Embarked', 'Survived', 'Ticket', 'Sex', 'Pclass']\n",
    "    for col in to_del :\n",
    "        del X[col]\n",
    "    return X, target"
   ],
   "metadata": {
    "collapsed": false
   }
  },
  {
   "cell_type": "code",
   "execution_count": 58,
   "outputs": [
    {
     "name": "stdout",
     "output_type": "stream",
     "text": [
      "0.6937040989266211\n"
     ]
    }
   ],
   "source": [
    "lr = LogisticRegression(max_iter=10000)\n",
    "X,y = parse_model_1(train)\n",
    "lr.fit(X,y)\n",
    "print(compute_score(lr,X,y))"
   ],
   "metadata": {
    "collapsed": false
   }
  },
  {
   "cell_type": "markdown",
   "source": [
    "#### Question 5\n",
    "\n",
    "On constate que la moyenne des scores est sensiblement la même que pour le résultat d'avant. Ceci s'explique par le fait que nous venons de retirer des données qui n'étaient pas importantes (non correlé avec la variable cible)."
   ],
   "metadata": {
    "collapsed": false
   }
  },
  {
   "cell_type": "code",
   "execution_count": 59,
   "outputs": [
    {
     "name": "stderr",
     "output_type": "stream",
     "text": [
      "No artists with labels found to put in legend.  Note that artists whose label start with an underscore are ignored when legend() is called with no argument.\n"
     ]
    },
    {
     "data": {
      "text/plain": "<Figure size 432x288 with 1 Axes>",
      "image/png": "[encoded data removed]"
     },
     "metadata": {},
     "output_type": "display_data"
    }
   ],
   "source": [
    "def plot_lr_coefs(X, lr: LogisticRegression):\n",
    "    fig, ax = plt.subplots()\n",
    "\n",
    "    xlabels = X.columns.values.tolist()\n",
    "    yvalues = lr.coef_[0,]\n",
    "    index = np.arange(len(yvalues))\n",
    "\n",
    "    bar_width = 0.35\n",
    "    opacity = 0.4\n",
    "    rects = plt.bar(index, yvalues, bar_width, alpha=opacity, color='b', label='')\n",
    "    plt.ylabel('Valeur')\n",
    "    plt.title('Poids des variables')\n",
    "    plt.xticks(index, xlabels, rotation=40)\n",
    "\n",
    "    plt.legend()\n",
    "    plt.tight_layout()\n",
    "    plt.show()\n",
    "\n",
    "plot_lr_coefs(X,lr)"
   ],
   "metadata": {
    "collapsed": false
   }
  },
  {
   "cell_type": "markdown",
   "source": [
    "## Question 6\n",
    "On constate ici que `split_Pclass_3` à une influence négative sur le fait de survivre. On constate par ailleurs que le coût du ticket (Fare) n'a aucune influence sur le fait de survivre ou non, tout comme le numéro de passager (PassengerId).\n",
    "D'un autre côté la variable `split_Pclass_1` montre qu'on avait plus de chance de survivre si l'on faisait partie de la première classe."
   ],
   "metadata": {
    "collapsed": false
   }
  },
  {
   "cell_type": "markdown",
   "source": [
    "# Partie 4 : Troisième modèle"
   ],
   "metadata": {
    "collapsed": false
   }
  },
  {
   "cell_type": "code",
   "execution_count": 60,
   "outputs": [
    {
     "name": "stdout",
     "output_type": "stream",
     "text": [
      "0.7867553825874083\n"
     ]
    }
   ],
   "source": [
    "def parse_model_2(X):\n",
    "    X.Age = X.Age.fillna(np.nanmedian(X[\"Age\"]))\n",
    "    target = X['Survived']\n",
    "    class_dummies = pd.get_dummies(X['Sex'], prefix='split_Sexe')\n",
    "    X = X.join(class_dummies)\n",
    "    class_dummies = pd.get_dummies(X['Pclass'], prefix='split_Pclass')\n",
    "    X = X.join(class_dummies)\n",
    "    to_del = ['Name', 'Cabin', 'Embarked', 'Survived', 'Ticket', 'Sex', 'Pclass']\n",
    "    for col in to_del :\n",
    "        del X[col]\n",
    "    return X,target\n",
    "\n",
    "train = pd.read_csv('data/titanic_train.csv', sep=',')\n",
    "train.set_index('PassengerId', inplace=True, drop=True)\n",
    "lr = LogisticRegression(max_iter=10000)\n",
    "X,y = parse_model_2(train)\n",
    "lr.fit(X,y)\n",
    "print(compute_score(lr,X,y))"
   ],
   "metadata": {
    "collapsed": false
   }
  },
  {
   "cell_type": "markdown",
   "source": [
    "## Question 3\n",
    "On constate ici que l'on a plus de chance de survivre si l'on est dans la catégorie 'Female' et que l'on a moins de chance de survivre si l'on est un homme.\n",
    "\"Les femmes et les enfants d'abord\"."
   ],
   "metadata": {
    "collapsed": false
   }
  },
  {
   "cell_type": "code",
   "execution_count": 61,
   "outputs": [
    {
     "data": {
      "text/plain": "<Figure size 432x288 with 1 Axes>",
      "image/png": "[encoded data removed]"
     },
     "metadata": {},
     "output_type": "display_data"
    }
   ],
   "source": [
    "plot_hist('Age')"
   ],
   "metadata": {
    "collapsed": false
   }
  },
  {
   "cell_type": "markdown",
   "source": [
    "## Question 4\n",
    "On constate sur cet histogramme que la tranche des [20-45] ans est la tranche où il y a eu beaucoup plus de victime. Ce nouveau modèle permettra donc de sortir des prédictions plus précises"
   ],
   "metadata": {
    "collapsed": false
   }
  },
  {
   "cell_type": "code",
   "execution_count": 62,
   "outputs": [],
   "source": [
    "X['is_child'] = X['Age'] < 8"
   ],
   "metadata": {
    "collapsed": false
   }
  },
  {
   "cell_type": "code",
   "execution_count": 63,
   "outputs": [
    {
     "name": "stdout",
     "output_type": "stream",
     "text": [
      "0.7990961019396147\n"
     ]
    }
   ],
   "source": [
    "lr = LogisticRegression(max_iter=10000)\n",
    "lr.fit(X,y)\n",
    "print(compute_score(lr, X,y))"
   ],
   "metadata": {
    "collapsed": false
   }
  },
  {
   "cell_type": "markdown",
   "source": [
    "# Question 5\n",
    "\n",
    "Comme attendu l'avenue de cette variable permet de discriminer encore plus entre les survivants et les morts. Car comme on l'a montré dans la question 4, les enfants ont plus de chance de survivre."
   ],
   "metadata": {
    "collapsed": false
   }
  },
  {
   "cell_type": "markdown",
   "source": [
    "# Partie 5 : Selection de variable"
   ],
   "metadata": {
    "collapsed": false
   }
  },
  {
   "cell_type": "code",
   "execution_count": 64,
   "outputs": [
    {
     "name": "stdout",
     "output_type": "stream",
     "text": [
      "Index(['Survived', 'Pclass', 'Name', 'Sex', 'Age', 'SibSp', 'Parch', 'Ticket',\n",
      "       'Fare', 'Cabin', 'Embarked', 'split_Sexe_female', 'split_Sexe_male',\n",
      "       'split_Pclass_1', 'split_Pclass_2', 'split_Pclass_3', 'is_child'],\n",
      "      dtype='object')\n"
     ]
    }
   ],
   "source": [
    "data = pd.read_csv('data/titanic_train.csv', sep=',')\n",
    "data.set_index('PassengerId', inplace=True, drop=True)\n",
    "\n",
    "def fix_missing_value(data):\n",
    "    X = data.copy()\n",
    "    X['Age'] = X['Age'].fillna(np.nanmedian(X['Age']))\n",
    "    class_dummies = pd.get_dummies(X['Sex'], prefix='split_Sexe')\n",
    "    X = X.join(class_dummies)\n",
    "    class_dummies = pd.get_dummies(X['Pclass'], prefix='split_Pclass')\n",
    "    X = X.join(class_dummies)\n",
    "    X['is_child'] = X.Age < 8\n",
    "    return X\n",
    "\n",
    "data = fix_missing_value(data)\n",
    "print(data.columns)\n",
    "criteria = ['Age', 'SibSp', 'Parch', 'Fare', 'split_Pclass_1', 'split_Pclass_2',\n",
    "            'split_Pclass_3', 'split_Sexe_female', 'split_Sexe_male', 'is_child']"
   ],
   "metadata": {
    "collapsed": false
   }
  },
  {
   "cell_type": "code",
   "execution_count": 65,
   "outputs": [],
   "source": [
    "def parse_model_3(X, keepColumns):\n",
    "    target = X['Survived']\n",
    "    to_del = [x for x in X.columns if x not in keepColumns]\n",
    "    for col in to_del:\n",
    "        del X[col]\n",
    "    return X, target\n",
    "\n",
    "def recursive_test(num_vars: int, train, local_criteria, keepColumns=[]):\n",
    "    if len(keepColumns) >= num_vars:\n",
    "        X, y = parse_model_3(train.copy(), keepColumns)\n",
    "        lr = LogisticRegression(max_iter=2000)\n",
    "        lr.fit(X, y)\n",
    "        score = compute_score(lr, X, y)\n",
    "        return score, keepColumns\n",
    "    highestScore = (0, [])\n",
    "    for colX in local_criteria:\n",
    "        if colX not in keepColumns:\n",
    "            score = recursive_test(num_vars, train, local_criteria, keepColumns + [colX])\n",
    "            if score[0] > highestScore[0]:\n",
    "                highestScore = score\n",
    "\n",
    "    return highestScore"
   ],
   "metadata": {
    "collapsed": false
   }
  },
  {
   "cell_type": "code",
   "execution_count": 66,
   "outputs": [
    {
     "name": "stdout",
     "output_type": "stream",
     "text": [
      "(0.7889837423890528, ['SibSp', 'split_Sexe_female'])\n"
     ]
    }
   ],
   "source": [
    "print(recursive_test(2, data.copy(), criteria))"
   ],
   "metadata": {
    "collapsed": false
   }
  },
  {
   "cell_type": "code",
   "execution_count": 67,
   "outputs": [
    {
     "ename": "KeyboardInterrupt",
     "evalue": "",
     "output_type": "error",
     "traceback": [
      "\u001B[0;31m---------------------------------------------------------------------------\u001B[0m",
      "\u001B[0;31mEmpty\u001B[0m                                     Traceback (most recent call last)",
      "File \u001B[0;32m~/venv/lib/python3.10/site-packages/joblib/parallel.py:862\u001B[0m, in \u001B[0;36mParallel.dispatch_one_batch\u001B[0;34m(self, iterator)\u001B[0m\n\u001B[1;32m    861\u001B[0m \u001B[38;5;28;01mtry\u001B[39;00m:\n\u001B[0;32m--> 862\u001B[0m     tasks \u001B[38;5;241m=\u001B[39m \u001B[38;5;28;43mself\u001B[39;49m\u001B[38;5;241;43m.\u001B[39;49m\u001B[43m_ready_batches\u001B[49m\u001B[38;5;241;43m.\u001B[39;49m\u001B[43mget\u001B[49m\u001B[43m(\u001B[49m\u001B[43mblock\u001B[49m\u001B[38;5;241;43m=\u001B[39;49m\u001B[38;5;28;43;01mFalse\u001B[39;49;00m\u001B[43m)\u001B[49m\n\u001B[1;32m    863\u001B[0m \u001B[38;5;28;01mexcept\u001B[39;00m queue\u001B[38;5;241m.\u001B[39mEmpty:\n\u001B[1;32m    864\u001B[0m     \u001B[38;5;66;03m# slice the iterator n_jobs * batchsize items at a time. If the\u001B[39;00m\n\u001B[1;32m    865\u001B[0m     \u001B[38;5;66;03m# slice returns less than that, then the current batchsize puts\u001B[39;00m\n\u001B[0;32m   (...)\u001B[0m\n\u001B[1;32m    868\u001B[0m     \u001B[38;5;66;03m# accordingly to distribute evenly the last items between all\u001B[39;00m\n\u001B[1;32m    869\u001B[0m     \u001B[38;5;66;03m# workers.\u001B[39;00m\n",
      "File \u001B[0;32m/usr/lib/python3.10/queue.py:168\u001B[0m, in \u001B[0;36mQueue.get\u001B[0;34m(self, block, timeout)\u001B[0m\n\u001B[1;32m    167\u001B[0m     \u001B[38;5;28;01mif\u001B[39;00m \u001B[38;5;129;01mnot\u001B[39;00m \u001B[38;5;28mself\u001B[39m\u001B[38;5;241m.\u001B[39m_qsize():\n\u001B[0;32m--> 168\u001B[0m         \u001B[38;5;28;01mraise\u001B[39;00m Empty\n\u001B[1;32m    169\u001B[0m \u001B[38;5;28;01melif\u001B[39;00m timeout \u001B[38;5;129;01mis\u001B[39;00m \u001B[38;5;28;01mNone\u001B[39;00m:\n",
      "\u001B[0;31mEmpty\u001B[0m: ",
      "\nDuring handling of the above exception, another exception occurred:\n",
      "\u001B[0;31mKeyboardInterrupt\u001B[0m                         Traceback (most recent call last)",
      "Input \u001B[0;32mIn [67]\u001B[0m, in \u001B[0;36m<cell line: 1>\u001B[0;34m()\u001B[0m\n\u001B[0;32m----> 1\u001B[0m \u001B[38;5;28mprint\u001B[39m(\u001B[43mrecursive_test\u001B[49m\u001B[43m(\u001B[49m\u001B[38;5;241;43m3\u001B[39;49m\u001B[43m,\u001B[49m\u001B[43mdata\u001B[49m\u001B[38;5;241;43m.\u001B[39;49m\u001B[43mcopy\u001B[49m\u001B[43m(\u001B[49m\u001B[43m)\u001B[49m\u001B[43m,\u001B[49m\u001B[43m \u001B[49m\u001B[43mcriteria\u001B[49m\u001B[43m)\u001B[49m)\n",
      "Input \u001B[0;32mIn [65]\u001B[0m, in \u001B[0;36mrecursive_test\u001B[0;34m(num_vars, train, local_criteria, keepColumns)\u001B[0m\n\u001B[1;32m     16\u001B[0m \u001B[38;5;28;01mfor\u001B[39;00m colX \u001B[38;5;129;01min\u001B[39;00m local_criteria:\n\u001B[1;32m     17\u001B[0m     \u001B[38;5;28;01mif\u001B[39;00m colX \u001B[38;5;129;01mnot\u001B[39;00m \u001B[38;5;129;01min\u001B[39;00m keepColumns:\n\u001B[0;32m---> 18\u001B[0m         score \u001B[38;5;241m=\u001B[39m \u001B[43mrecursive_test\u001B[49m\u001B[43m(\u001B[49m\u001B[43mnum_vars\u001B[49m\u001B[43m,\u001B[49m\u001B[43m \u001B[49m\u001B[43mtrain\u001B[49m\u001B[43m,\u001B[49m\u001B[43m \u001B[49m\u001B[43mlocal_criteria\u001B[49m\u001B[43m,\u001B[49m\u001B[43m \u001B[49m\u001B[43mkeepColumns\u001B[49m\u001B[43m \u001B[49m\u001B[38;5;241;43m+\u001B[39;49m\u001B[43m \u001B[49m\u001B[43m[\u001B[49m\u001B[43mcolX\u001B[49m\u001B[43m]\u001B[49m\u001B[43m)\u001B[49m\n\u001B[1;32m     19\u001B[0m         \u001B[38;5;28;01mif\u001B[39;00m score[\u001B[38;5;241m0\u001B[39m] \u001B[38;5;241m>\u001B[39m highestScore[\u001B[38;5;241m0\u001B[39m]:\n\u001B[1;32m     20\u001B[0m             highestScore \u001B[38;5;241m=\u001B[39m score\n",
      "Input \u001B[0;32mIn [65]\u001B[0m, in \u001B[0;36mrecursive_test\u001B[0;34m(num_vars, train, local_criteria, keepColumns)\u001B[0m\n\u001B[1;32m     16\u001B[0m \u001B[38;5;28;01mfor\u001B[39;00m colX \u001B[38;5;129;01min\u001B[39;00m local_criteria:\n\u001B[1;32m     17\u001B[0m     \u001B[38;5;28;01mif\u001B[39;00m colX \u001B[38;5;129;01mnot\u001B[39;00m \u001B[38;5;129;01min\u001B[39;00m keepColumns:\n\u001B[0;32m---> 18\u001B[0m         score \u001B[38;5;241m=\u001B[39m \u001B[43mrecursive_test\u001B[49m\u001B[43m(\u001B[49m\u001B[43mnum_vars\u001B[49m\u001B[43m,\u001B[49m\u001B[43m \u001B[49m\u001B[43mtrain\u001B[49m\u001B[43m,\u001B[49m\u001B[43m \u001B[49m\u001B[43mlocal_criteria\u001B[49m\u001B[43m,\u001B[49m\u001B[43m \u001B[49m\u001B[43mkeepColumns\u001B[49m\u001B[43m \u001B[49m\u001B[38;5;241;43m+\u001B[39;49m\u001B[43m \u001B[49m\u001B[43m[\u001B[49m\u001B[43mcolX\u001B[49m\u001B[43m]\u001B[49m\u001B[43m)\u001B[49m\n\u001B[1;32m     19\u001B[0m         \u001B[38;5;28;01mif\u001B[39;00m score[\u001B[38;5;241m0\u001B[39m] \u001B[38;5;241m>\u001B[39m highestScore[\u001B[38;5;241m0\u001B[39m]:\n\u001B[1;32m     20\u001B[0m             highestScore \u001B[38;5;241m=\u001B[39m score\n",
      "Input \u001B[0;32mIn [65]\u001B[0m, in \u001B[0;36mrecursive_test\u001B[0;34m(num_vars, train, local_criteria, keepColumns)\u001B[0m\n\u001B[1;32m     16\u001B[0m \u001B[38;5;28;01mfor\u001B[39;00m colX \u001B[38;5;129;01min\u001B[39;00m local_criteria:\n\u001B[1;32m     17\u001B[0m     \u001B[38;5;28;01mif\u001B[39;00m colX \u001B[38;5;129;01mnot\u001B[39;00m \u001B[38;5;129;01min\u001B[39;00m keepColumns:\n\u001B[0;32m---> 18\u001B[0m         score \u001B[38;5;241m=\u001B[39m \u001B[43mrecursive_test\u001B[49m\u001B[43m(\u001B[49m\u001B[43mnum_vars\u001B[49m\u001B[43m,\u001B[49m\u001B[43m \u001B[49m\u001B[43mtrain\u001B[49m\u001B[43m,\u001B[49m\u001B[43m \u001B[49m\u001B[43mlocal_criteria\u001B[49m\u001B[43m,\u001B[49m\u001B[43m \u001B[49m\u001B[43mkeepColumns\u001B[49m\u001B[43m \u001B[49m\u001B[38;5;241;43m+\u001B[39;49m\u001B[43m \u001B[49m\u001B[43m[\u001B[49m\u001B[43mcolX\u001B[49m\u001B[43m]\u001B[49m\u001B[43m)\u001B[49m\n\u001B[1;32m     19\u001B[0m         \u001B[38;5;28;01mif\u001B[39;00m score[\u001B[38;5;241m0\u001B[39m] \u001B[38;5;241m>\u001B[39m highestScore[\u001B[38;5;241m0\u001B[39m]:\n\u001B[1;32m     20\u001B[0m             highestScore \u001B[38;5;241m=\u001B[39m score\n",
      "Input \u001B[0;32mIn [65]\u001B[0m, in \u001B[0;36mrecursive_test\u001B[0;34m(num_vars, train, local_criteria, keepColumns)\u001B[0m\n\u001B[1;32m     11\u001B[0m     lr \u001B[38;5;241m=\u001B[39m LogisticRegression(max_iter\u001B[38;5;241m=\u001B[39m\u001B[38;5;241m2000\u001B[39m)\n\u001B[1;32m     12\u001B[0m     lr\u001B[38;5;241m.\u001B[39mfit(X, y)\n\u001B[0;32m---> 13\u001B[0m     score \u001B[38;5;241m=\u001B[39m \u001B[43mcompute_score\u001B[49m\u001B[43m(\u001B[49m\u001B[43mlr\u001B[49m\u001B[43m,\u001B[49m\u001B[43m \u001B[49m\u001B[43mX\u001B[49m\u001B[43m,\u001B[49m\u001B[43m \u001B[49m\u001B[43my\u001B[49m\u001B[43m)\u001B[49m\n\u001B[1;32m     14\u001B[0m     \u001B[38;5;28;01mreturn\u001B[39;00m score, keepColumns\n\u001B[1;32m     15\u001B[0m highestScore \u001B[38;5;241m=\u001B[39m (\u001B[38;5;241m0\u001B[39m, [])\n",
      "Input \u001B[0;32mIn [52]\u001B[0m, in \u001B[0;36mcompute_score\u001B[0;34m(clf, X, y)\u001B[0m\n\u001B[1;32m     11\u001B[0m \u001B[38;5;28;01mdef\u001B[39;00m \u001B[38;5;21mcompute_score\u001B[39m(clf, X, y):\n\u001B[0;32m---> 12\u001B[0m     xval \u001B[38;5;241m=\u001B[39m \u001B[43mcross_val_score\u001B[49m\u001B[43m(\u001B[49m\u001B[43mclf\u001B[49m\u001B[43m,\u001B[49m\u001B[43m \u001B[49m\u001B[43mX\u001B[49m\u001B[43m,\u001B[49m\u001B[43m \u001B[49m\u001B[43my\u001B[49m\u001B[43m,\u001B[49m\u001B[43m \u001B[49m\u001B[43mcv\u001B[49m\u001B[38;5;241;43m=\u001B[39;49m\u001B[38;5;241;43m5\u001B[39;49m\u001B[43m)\u001B[49m\n\u001B[1;32m     13\u001B[0m     \u001B[38;5;28;01mreturn\u001B[39;00m np\u001B[38;5;241m.\u001B[39mmean(xval)\n",
      "File \u001B[0;32m~/venv/lib/python3.10/site-packages/sklearn/model_selection/_validation.py:515\u001B[0m, in \u001B[0;36mcross_val_score\u001B[0;34m(estimator, X, y, groups, scoring, cv, n_jobs, verbose, fit_params, pre_dispatch, error_score)\u001B[0m\n\u001B[1;32m    512\u001B[0m \u001B[38;5;66;03m# To ensure multimetric format is not supported\u001B[39;00m\n\u001B[1;32m    513\u001B[0m scorer \u001B[38;5;241m=\u001B[39m check_scoring(estimator, scoring\u001B[38;5;241m=\u001B[39mscoring)\n\u001B[0;32m--> 515\u001B[0m cv_results \u001B[38;5;241m=\u001B[39m \u001B[43mcross_validate\u001B[49m\u001B[43m(\u001B[49m\n\u001B[1;32m    516\u001B[0m \u001B[43m    \u001B[49m\u001B[43mestimator\u001B[49m\u001B[38;5;241;43m=\u001B[39;49m\u001B[43mestimator\u001B[49m\u001B[43m,\u001B[49m\n\u001B[1;32m    517\u001B[0m \u001B[43m    \u001B[49m\u001B[43mX\u001B[49m\u001B[38;5;241;43m=\u001B[39;49m\u001B[43mX\u001B[49m\u001B[43m,\u001B[49m\n\u001B[1;32m    518\u001B[0m \u001B[43m    \u001B[49m\u001B[43my\u001B[49m\u001B[38;5;241;43m=\u001B[39;49m\u001B[43my\u001B[49m\u001B[43m,\u001B[49m\n\u001B[1;32m    519\u001B[0m \u001B[43m    \u001B[49m\u001B[43mgroups\u001B[49m\u001B[38;5;241;43m=\u001B[39;49m\u001B[43mgroups\u001B[49m\u001B[43m,\u001B[49m\n\u001B[1;32m    520\u001B[0m \u001B[43m    \u001B[49m\u001B[43mscoring\u001B[49m\u001B[38;5;241;43m=\u001B[39;49m\u001B[43m{\u001B[49m\u001B[38;5;124;43m\"\u001B[39;49m\u001B[38;5;124;43mscore\u001B[39;49m\u001B[38;5;124;43m\"\u001B[39;49m\u001B[43m:\u001B[49m\u001B[43m \u001B[49m\u001B[43mscorer\u001B[49m\u001B[43m}\u001B[49m\u001B[43m,\u001B[49m\n\u001B[1;32m    521\u001B[0m \u001B[43m    \u001B[49m\u001B[43mcv\u001B[49m\u001B[38;5;241;43m=\u001B[39;49m\u001B[43mcv\u001B[49m\u001B[43m,\u001B[49m\n\u001B[1;32m    522\u001B[0m \u001B[43m    \u001B[49m\u001B[43mn_jobs\u001B[49m\u001B[38;5;241;43m=\u001B[39;49m\u001B[43mn_jobs\u001B[49m\u001B[43m,\u001B[49m\n\u001B[1;32m    523\u001B[0m \u001B[43m    \u001B[49m\u001B[43mverbose\u001B[49m\u001B[38;5;241;43m=\u001B[39;49m\u001B[43mverbose\u001B[49m\u001B[43m,\u001B[49m\n\u001B[1;32m    524\u001B[0m \u001B[43m    \u001B[49m\u001B[43mfit_params\u001B[49m\u001B[38;5;241;43m=\u001B[39;49m\u001B[43mfit_params\u001B[49m\u001B[43m,\u001B[49m\n\u001B[1;32m    525\u001B[0m \u001B[43m    \u001B[49m\u001B[43mpre_dispatch\u001B[49m\u001B[38;5;241;43m=\u001B[39;49m\u001B[43mpre_dispatch\u001B[49m\u001B[43m,\u001B[49m\n\u001B[1;32m    526\u001B[0m \u001B[43m    \u001B[49m\u001B[43merror_score\u001B[49m\u001B[38;5;241;43m=\u001B[39;49m\u001B[43merror_score\u001B[49m\u001B[43m,\u001B[49m\n\u001B[1;32m    527\u001B[0m \u001B[43m\u001B[49m\u001B[43m)\u001B[49m\n\u001B[1;32m    528\u001B[0m \u001B[38;5;28;01mreturn\u001B[39;00m cv_results[\u001B[38;5;124m\"\u001B[39m\u001B[38;5;124mtest_score\u001B[39m\u001B[38;5;124m\"\u001B[39m]\n",
      "File \u001B[0;32m~/venv/lib/python3.10/site-packages/sklearn/model_selection/_validation.py:266\u001B[0m, in \u001B[0;36mcross_validate\u001B[0;34m(estimator, X, y, groups, scoring, cv, n_jobs, verbose, fit_params, pre_dispatch, return_train_score, return_estimator, error_score)\u001B[0m\n\u001B[1;32m    263\u001B[0m \u001B[38;5;66;03m# We clone the estimator to make sure that all the folds are\u001B[39;00m\n\u001B[1;32m    264\u001B[0m \u001B[38;5;66;03m# independent, and that it is pickle-able.\u001B[39;00m\n\u001B[1;32m    265\u001B[0m parallel \u001B[38;5;241m=\u001B[39m Parallel(n_jobs\u001B[38;5;241m=\u001B[39mn_jobs, verbose\u001B[38;5;241m=\u001B[39mverbose, pre_dispatch\u001B[38;5;241m=\u001B[39mpre_dispatch)\n\u001B[0;32m--> 266\u001B[0m results \u001B[38;5;241m=\u001B[39m \u001B[43mparallel\u001B[49m\u001B[43m(\u001B[49m\n\u001B[1;32m    267\u001B[0m \u001B[43m    \u001B[49m\u001B[43mdelayed\u001B[49m\u001B[43m(\u001B[49m\u001B[43m_fit_and_score\u001B[49m\u001B[43m)\u001B[49m\u001B[43m(\u001B[49m\n\u001B[1;32m    268\u001B[0m \u001B[43m        \u001B[49m\u001B[43mclone\u001B[49m\u001B[43m(\u001B[49m\u001B[43mestimator\u001B[49m\u001B[43m)\u001B[49m\u001B[43m,\u001B[49m\n\u001B[1;32m    269\u001B[0m \u001B[43m        \u001B[49m\u001B[43mX\u001B[49m\u001B[43m,\u001B[49m\n\u001B[1;32m    270\u001B[0m \u001B[43m        \u001B[49m\u001B[43my\u001B[49m\u001B[43m,\u001B[49m\n\u001B[1;32m    271\u001B[0m \u001B[43m        \u001B[49m\u001B[43mscorers\u001B[49m\u001B[43m,\u001B[49m\n\u001B[1;32m    272\u001B[0m \u001B[43m        \u001B[49m\u001B[43mtrain\u001B[49m\u001B[43m,\u001B[49m\n\u001B[1;32m    273\u001B[0m \u001B[43m        \u001B[49m\u001B[43mtest\u001B[49m\u001B[43m,\u001B[49m\n\u001B[1;32m    274\u001B[0m \u001B[43m        \u001B[49m\u001B[43mverbose\u001B[49m\u001B[43m,\u001B[49m\n\u001B[1;32m    275\u001B[0m \u001B[43m        \u001B[49m\u001B[38;5;28;43;01mNone\u001B[39;49;00m\u001B[43m,\u001B[49m\n\u001B[1;32m    276\u001B[0m \u001B[43m        \u001B[49m\u001B[43mfit_params\u001B[49m\u001B[43m,\u001B[49m\n\u001B[1;32m    277\u001B[0m \u001B[43m        \u001B[49m\u001B[43mreturn_train_score\u001B[49m\u001B[38;5;241;43m=\u001B[39;49m\u001B[43mreturn_train_score\u001B[49m\u001B[43m,\u001B[49m\n\u001B[1;32m    278\u001B[0m \u001B[43m        \u001B[49m\u001B[43mreturn_times\u001B[49m\u001B[38;5;241;43m=\u001B[39;49m\u001B[38;5;28;43;01mTrue\u001B[39;49;00m\u001B[43m,\u001B[49m\n\u001B[1;32m    279\u001B[0m \u001B[43m        \u001B[49m\u001B[43mreturn_estimator\u001B[49m\u001B[38;5;241;43m=\u001B[39;49m\u001B[43mreturn_estimator\u001B[49m\u001B[43m,\u001B[49m\n\u001B[1;32m    280\u001B[0m \u001B[43m        \u001B[49m\u001B[43merror_score\u001B[49m\u001B[38;5;241;43m=\u001B[39;49m\u001B[43merror_score\u001B[49m\u001B[43m,\u001B[49m\n\u001B[1;32m    281\u001B[0m \u001B[43m    \u001B[49m\u001B[43m)\u001B[49m\n\u001B[1;32m    282\u001B[0m \u001B[43m    \u001B[49m\u001B[38;5;28;43;01mfor\u001B[39;49;00m\u001B[43m \u001B[49m\u001B[43mtrain\u001B[49m\u001B[43m,\u001B[49m\u001B[43m \u001B[49m\u001B[43mtest\u001B[49m\u001B[43m \u001B[49m\u001B[38;5;129;43;01min\u001B[39;49;00m\u001B[43m \u001B[49m\u001B[43mcv\u001B[49m\u001B[38;5;241;43m.\u001B[39;49m\u001B[43msplit\u001B[49m\u001B[43m(\u001B[49m\u001B[43mX\u001B[49m\u001B[43m,\u001B[49m\u001B[43m \u001B[49m\u001B[43my\u001B[49m\u001B[43m,\u001B[49m\u001B[43m \u001B[49m\u001B[43mgroups\u001B[49m\u001B[43m)\u001B[49m\n\u001B[1;32m    283\u001B[0m \u001B[43m\u001B[49m\u001B[43m)\u001B[49m\n\u001B[1;32m    285\u001B[0m _warn_or_raise_about_fit_failures(results, error_score)\n\u001B[1;32m    287\u001B[0m \u001B[38;5;66;03m# For callabe scoring, the return type is only know after calling. If the\u001B[39;00m\n\u001B[1;32m    288\u001B[0m \u001B[38;5;66;03m# return type is a dictionary, the error scores can now be inserted with\u001B[39;00m\n\u001B[1;32m    289\u001B[0m \u001B[38;5;66;03m# the correct key.\u001B[39;00m\n",
      "File \u001B[0;32m~/venv/lib/python3.10/site-packages/joblib/parallel.py:1088\u001B[0m, in \u001B[0;36mParallel.__call__\u001B[0;34m(self, iterable)\u001B[0m\n\u001B[1;32m   1085\u001B[0m \u001B[38;5;28;01mif\u001B[39;00m \u001B[38;5;28mself\u001B[39m\u001B[38;5;241m.\u001B[39mdispatch_one_batch(iterator):\n\u001B[1;32m   1086\u001B[0m     \u001B[38;5;28mself\u001B[39m\u001B[38;5;241m.\u001B[39m_iterating \u001B[38;5;241m=\u001B[39m \u001B[38;5;28mself\u001B[39m\u001B[38;5;241m.\u001B[39m_original_iterator \u001B[38;5;129;01mis\u001B[39;00m \u001B[38;5;129;01mnot\u001B[39;00m \u001B[38;5;28;01mNone\u001B[39;00m\n\u001B[0;32m-> 1088\u001B[0m \u001B[38;5;28;01mwhile\u001B[39;00m \u001B[38;5;28;43mself\u001B[39;49m\u001B[38;5;241;43m.\u001B[39;49m\u001B[43mdispatch_one_batch\u001B[49m\u001B[43m(\u001B[49m\u001B[43miterator\u001B[49m\u001B[43m)\u001B[49m:\n\u001B[1;32m   1089\u001B[0m     \u001B[38;5;28;01mpass\u001B[39;00m\n\u001B[1;32m   1091\u001B[0m \u001B[38;5;28;01mif\u001B[39;00m pre_dispatch \u001B[38;5;241m==\u001B[39m \u001B[38;5;124m\"\u001B[39m\u001B[38;5;124mall\u001B[39m\u001B[38;5;124m\"\u001B[39m \u001B[38;5;129;01mor\u001B[39;00m n_jobs \u001B[38;5;241m==\u001B[39m \u001B[38;5;241m1\u001B[39m:\n\u001B[1;32m   1092\u001B[0m     \u001B[38;5;66;03m# The iterable was consumed all at once by the above for loop.\u001B[39;00m\n\u001B[1;32m   1093\u001B[0m     \u001B[38;5;66;03m# No need to wait for async callbacks to trigger to\u001B[39;00m\n\u001B[1;32m   1094\u001B[0m     \u001B[38;5;66;03m# consumption.\u001B[39;00m\n",
      "File \u001B[0;32m~/venv/lib/python3.10/site-packages/joblib/parallel.py:873\u001B[0m, in \u001B[0;36mParallel.dispatch_one_batch\u001B[0;34m(self, iterator)\u001B[0m\n\u001B[1;32m    870\u001B[0m n_jobs \u001B[38;5;241m=\u001B[39m \u001B[38;5;28mself\u001B[39m\u001B[38;5;241m.\u001B[39m_cached_effective_n_jobs\n\u001B[1;32m    871\u001B[0m big_batch_size \u001B[38;5;241m=\u001B[39m batch_size \u001B[38;5;241m*\u001B[39m n_jobs\n\u001B[0;32m--> 873\u001B[0m islice \u001B[38;5;241m=\u001B[39m \u001B[38;5;28;43mlist\u001B[39;49m\u001B[43m(\u001B[49m\u001B[43mitertools\u001B[49m\u001B[38;5;241;43m.\u001B[39;49m\u001B[43mislice\u001B[49m\u001B[43m(\u001B[49m\u001B[43miterator\u001B[49m\u001B[43m,\u001B[49m\u001B[43m \u001B[49m\u001B[43mbig_batch_size\u001B[49m\u001B[43m)\u001B[49m\u001B[43m)\u001B[49m\n\u001B[1;32m    874\u001B[0m \u001B[38;5;28;01mif\u001B[39;00m \u001B[38;5;28mlen\u001B[39m(islice) \u001B[38;5;241m==\u001B[39m \u001B[38;5;241m0\u001B[39m:\n\u001B[1;32m    875\u001B[0m     \u001B[38;5;28;01mreturn\u001B[39;00m \u001B[38;5;28;01mFalse\u001B[39;00m\n",
      "File \u001B[0;32m~/venv/lib/python3.10/site-packages/sklearn/model_selection/_validation.py:268\u001B[0m, in \u001B[0;36m<genexpr>\u001B[0;34m(.0)\u001B[0m\n\u001B[1;32m    263\u001B[0m \u001B[38;5;66;03m# We clone the estimator to make sure that all the folds are\u001B[39;00m\n\u001B[1;32m    264\u001B[0m \u001B[38;5;66;03m# independent, and that it is pickle-able.\u001B[39;00m\n\u001B[1;32m    265\u001B[0m parallel \u001B[38;5;241m=\u001B[39m Parallel(n_jobs\u001B[38;5;241m=\u001B[39mn_jobs, verbose\u001B[38;5;241m=\u001B[39mverbose, pre_dispatch\u001B[38;5;241m=\u001B[39mpre_dispatch)\n\u001B[1;32m    266\u001B[0m results \u001B[38;5;241m=\u001B[39m parallel(\n\u001B[1;32m    267\u001B[0m     delayed(_fit_and_score)(\n\u001B[0;32m--> 268\u001B[0m         \u001B[43mclone\u001B[49m\u001B[43m(\u001B[49m\u001B[43mestimator\u001B[49m\u001B[43m)\u001B[49m,\n\u001B[1;32m    269\u001B[0m         X,\n\u001B[1;32m    270\u001B[0m         y,\n\u001B[1;32m    271\u001B[0m         scorers,\n\u001B[1;32m    272\u001B[0m         train,\n\u001B[1;32m    273\u001B[0m         test,\n\u001B[1;32m    274\u001B[0m         verbose,\n\u001B[1;32m    275\u001B[0m         \u001B[38;5;28;01mNone\u001B[39;00m,\n\u001B[1;32m    276\u001B[0m         fit_params,\n\u001B[1;32m    277\u001B[0m         return_train_score\u001B[38;5;241m=\u001B[39mreturn_train_score,\n\u001B[1;32m    278\u001B[0m         return_times\u001B[38;5;241m=\u001B[39m\u001B[38;5;28;01mTrue\u001B[39;00m,\n\u001B[1;32m    279\u001B[0m         return_estimator\u001B[38;5;241m=\u001B[39mreturn_estimator,\n\u001B[1;32m    280\u001B[0m         error_score\u001B[38;5;241m=\u001B[39merror_score,\n\u001B[1;32m    281\u001B[0m     )\n\u001B[1;32m    282\u001B[0m     \u001B[38;5;28;01mfor\u001B[39;00m train, test \u001B[38;5;129;01min\u001B[39;00m cv\u001B[38;5;241m.\u001B[39msplit(X, y, groups)\n\u001B[1;32m    283\u001B[0m )\n\u001B[1;32m    285\u001B[0m _warn_or_raise_about_fit_failures(results, error_score)\n\u001B[1;32m    287\u001B[0m \u001B[38;5;66;03m# For callabe scoring, the return type is only know after calling. If the\u001B[39;00m\n\u001B[1;32m    288\u001B[0m \u001B[38;5;66;03m# return type is a dictionary, the error scores can now be inserted with\u001B[39;00m\n\u001B[1;32m    289\u001B[0m \u001B[38;5;66;03m# the correct key.\u001B[39;00m\n",
      "File \u001B[0;32m~/venv/lib/python3.10/site-packages/sklearn/base.py:85\u001B[0m, in \u001B[0;36mclone\u001B[0;34m(estimator, safe)\u001B[0m\n\u001B[1;32m     77\u001B[0m             \u001B[38;5;28;01mraise\u001B[39;00m \u001B[38;5;167;01mTypeError\u001B[39;00m(\n\u001B[1;32m     78\u001B[0m                 \u001B[38;5;124m\"\u001B[39m\u001B[38;5;124mCannot clone object \u001B[39m\u001B[38;5;124m'\u001B[39m\u001B[38;5;132;01m%s\u001B[39;00m\u001B[38;5;124m'\u001B[39m\u001B[38;5;124m (type \u001B[39m\u001B[38;5;132;01m%s\u001B[39;00m\u001B[38;5;124m): \u001B[39m\u001B[38;5;124m\"\u001B[39m\n\u001B[1;32m     79\u001B[0m                 \u001B[38;5;124m\"\u001B[39m\u001B[38;5;124mit does not seem to be a scikit-learn \u001B[39m\u001B[38;5;124m\"\u001B[39m\n\u001B[1;32m     80\u001B[0m                 \u001B[38;5;124m\"\u001B[39m\u001B[38;5;124mestimator as it does not implement a \u001B[39m\u001B[38;5;124m\"\u001B[39m\n\u001B[1;32m     81\u001B[0m                 \u001B[38;5;124m\"\u001B[39m\u001B[38;5;124m'\u001B[39m\u001B[38;5;124mget_params\u001B[39m\u001B[38;5;124m'\u001B[39m\u001B[38;5;124m method.\u001B[39m\u001B[38;5;124m\"\u001B[39m \u001B[38;5;241m%\u001B[39m (\u001B[38;5;28mrepr\u001B[39m(estimator), \u001B[38;5;28mtype\u001B[39m(estimator))\n\u001B[1;32m     82\u001B[0m             )\n\u001B[1;32m     84\u001B[0m klass \u001B[38;5;241m=\u001B[39m estimator\u001B[38;5;241m.\u001B[39m\u001B[38;5;18m__class__\u001B[39m\n\u001B[0;32m---> 85\u001B[0m new_object_params \u001B[38;5;241m=\u001B[39m \u001B[43mestimator\u001B[49m\u001B[38;5;241;43m.\u001B[39;49m\u001B[43mget_params\u001B[49m\u001B[43m(\u001B[49m\u001B[43mdeep\u001B[49m\u001B[38;5;241;43m=\u001B[39;49m\u001B[38;5;28;43;01mFalse\u001B[39;49;00m\u001B[43m)\u001B[49m\n\u001B[1;32m     86\u001B[0m \u001B[38;5;28;01mfor\u001B[39;00m name, param \u001B[38;5;129;01min\u001B[39;00m new_object_params\u001B[38;5;241m.\u001B[39mitems():\n\u001B[1;32m     87\u001B[0m     new_object_params[name] \u001B[38;5;241m=\u001B[39m clone(param, safe\u001B[38;5;241m=\u001B[39m\u001B[38;5;28;01mFalse\u001B[39;00m)\n",
      "File \u001B[0;32m~/venv/lib/python3.10/site-packages/sklearn/base.py:210\u001B[0m, in \u001B[0;36mBaseEstimator.get_params\u001B[0;34m(self, deep)\u001B[0m\n\u001B[1;32m    195\u001B[0m \u001B[38;5;124;03m\"\"\"\u001B[39;00m\n\u001B[1;32m    196\u001B[0m \u001B[38;5;124;03mGet parameters for this estimator.\u001B[39;00m\n\u001B[1;32m    197\u001B[0m \n\u001B[0;32m   (...)\u001B[0m\n\u001B[1;32m    207\u001B[0m \u001B[38;5;124;03m    Parameter names mapped to their values.\u001B[39;00m\n\u001B[1;32m    208\u001B[0m \u001B[38;5;124;03m\"\"\"\u001B[39;00m\n\u001B[1;32m    209\u001B[0m out \u001B[38;5;241m=\u001B[39m \u001B[38;5;28mdict\u001B[39m()\n\u001B[0;32m--> 210\u001B[0m \u001B[38;5;28;01mfor\u001B[39;00m key \u001B[38;5;129;01min\u001B[39;00m \u001B[38;5;28;43mself\u001B[39;49m\u001B[38;5;241;43m.\u001B[39;49m\u001B[43m_get_param_names\u001B[49m\u001B[43m(\u001B[49m\u001B[43m)\u001B[49m:\n\u001B[1;32m    211\u001B[0m     value \u001B[38;5;241m=\u001B[39m \u001B[38;5;28mgetattr\u001B[39m(\u001B[38;5;28mself\u001B[39m, key)\n\u001B[1;32m    212\u001B[0m     \u001B[38;5;28;01mif\u001B[39;00m deep \u001B[38;5;129;01mand\u001B[39;00m \u001B[38;5;28mhasattr\u001B[39m(value, \u001B[38;5;124m\"\u001B[39m\u001B[38;5;124mget_params\u001B[39m\u001B[38;5;124m\"\u001B[39m) \u001B[38;5;129;01mand\u001B[39;00m \u001B[38;5;129;01mnot\u001B[39;00m \u001B[38;5;28misinstance\u001B[39m(value, \u001B[38;5;28mtype\u001B[39m):\n",
      "File \u001B[0;32m~/venv/lib/python3.10/site-packages/sklearn/base.py:175\u001B[0m, in \u001B[0;36mBaseEstimator._get_param_names\u001B[0;34m(cls)\u001B[0m\n\u001B[1;32m    171\u001B[0m     \u001B[38;5;28;01mreturn\u001B[39;00m []\n\u001B[1;32m    173\u001B[0m \u001B[38;5;66;03m# introspect the constructor arguments to find the model parameters\u001B[39;00m\n\u001B[1;32m    174\u001B[0m \u001B[38;5;66;03m# to represent\u001B[39;00m\n\u001B[0;32m--> 175\u001B[0m init_signature \u001B[38;5;241m=\u001B[39m \u001B[43minspect\u001B[49m\u001B[38;5;241;43m.\u001B[39;49m\u001B[43msignature\u001B[49m\u001B[43m(\u001B[49m\u001B[43minit\u001B[49m\u001B[43m)\u001B[49m\n\u001B[1;32m    176\u001B[0m \u001B[38;5;66;03m# Consider the constructor parameters excluding 'self'\u001B[39;00m\n\u001B[1;32m    177\u001B[0m parameters \u001B[38;5;241m=\u001B[39m [\n\u001B[1;32m    178\u001B[0m     p\n\u001B[1;32m    179\u001B[0m     \u001B[38;5;28;01mfor\u001B[39;00m p \u001B[38;5;129;01min\u001B[39;00m init_signature\u001B[38;5;241m.\u001B[39mparameters\u001B[38;5;241m.\u001B[39mvalues()\n\u001B[1;32m    180\u001B[0m     \u001B[38;5;28;01mif\u001B[39;00m p\u001B[38;5;241m.\u001B[39mname \u001B[38;5;241m!=\u001B[39m \u001B[38;5;124m\"\u001B[39m\u001B[38;5;124mself\u001B[39m\u001B[38;5;124m\"\u001B[39m \u001B[38;5;129;01mand\u001B[39;00m p\u001B[38;5;241m.\u001B[39mkind \u001B[38;5;241m!=\u001B[39m p\u001B[38;5;241m.\u001B[39mVAR_KEYWORD\n\u001B[1;32m    181\u001B[0m ]\n",
      "File \u001B[0;32m/usr/lib/python3.10/inspect.py:3247\u001B[0m, in \u001B[0;36msignature\u001B[0;34m(obj, follow_wrapped, globals, locals, eval_str)\u001B[0m\n\u001B[1;32m   3245\u001B[0m \u001B[38;5;28;01mdef\u001B[39;00m \u001B[38;5;21msignature\u001B[39m(obj, \u001B[38;5;241m*\u001B[39m, follow_wrapped\u001B[38;5;241m=\u001B[39m\u001B[38;5;28;01mTrue\u001B[39;00m, \u001B[38;5;28mglobals\u001B[39m\u001B[38;5;241m=\u001B[39m\u001B[38;5;28;01mNone\u001B[39;00m, \u001B[38;5;28mlocals\u001B[39m\u001B[38;5;241m=\u001B[39m\u001B[38;5;28;01mNone\u001B[39;00m, eval_str\u001B[38;5;241m=\u001B[39m\u001B[38;5;28;01mFalse\u001B[39;00m):\n\u001B[1;32m   3246\u001B[0m     \u001B[38;5;124;03m\"\"\"Get a signature object for the passed callable.\"\"\"\u001B[39;00m\n\u001B[0;32m-> 3247\u001B[0m     \u001B[38;5;28;01mreturn\u001B[39;00m \u001B[43mSignature\u001B[49m\u001B[38;5;241;43m.\u001B[39;49m\u001B[43mfrom_callable\u001B[49m\u001B[43m(\u001B[49m\u001B[43mobj\u001B[49m\u001B[43m,\u001B[49m\u001B[43m \u001B[49m\u001B[43mfollow_wrapped\u001B[49m\u001B[38;5;241;43m=\u001B[39;49m\u001B[43mfollow_wrapped\u001B[49m\u001B[43m,\u001B[49m\n\u001B[1;32m   3248\u001B[0m \u001B[43m                                   \u001B[49m\u001B[38;5;28;43mglobals\u001B[39;49m\u001B[38;5;241;43m=\u001B[39;49m\u001B[38;5;28;43mglobals\u001B[39;49m\u001B[43m,\u001B[49m\u001B[43m \u001B[49m\u001B[38;5;28;43mlocals\u001B[39;49m\u001B[38;5;241;43m=\u001B[39;49m\u001B[38;5;28;43mlocals\u001B[39;49m\u001B[43m,\u001B[49m\u001B[43m \u001B[49m\u001B[43meval_str\u001B[49m\u001B[38;5;241;43m=\u001B[39;49m\u001B[43meval_str\u001B[49m\u001B[43m)\u001B[49m\n",
      "File \u001B[0;32m/usr/lib/python3.10/inspect.py:2991\u001B[0m, in \u001B[0;36mSignature.from_callable\u001B[0;34m(cls, obj, follow_wrapped, globals, locals, eval_str)\u001B[0m\n\u001B[1;32m   2986\u001B[0m     warnings\u001B[38;5;241m.\u001B[39mwarn(\u001B[38;5;124m\"\u001B[39m\u001B[38;5;124minspect.Signature.from_builtin() is deprecated since \u001B[39m\u001B[38;5;124m\"\u001B[39m\n\u001B[1;32m   2987\u001B[0m                   \u001B[38;5;124m\"\u001B[39m\u001B[38;5;124mPython 3.5, use Signature.from_callable()\u001B[39m\u001B[38;5;124m\"\u001B[39m,\n\u001B[1;32m   2988\u001B[0m                   \u001B[38;5;167;01mDeprecationWarning\u001B[39;00m, stacklevel\u001B[38;5;241m=\u001B[39m\u001B[38;5;241m2\u001B[39m)\n\u001B[1;32m   2989\u001B[0m     \u001B[38;5;28;01mreturn\u001B[39;00m _signature_from_builtin(\u001B[38;5;28mcls\u001B[39m, func)\n\u001B[0;32m-> 2991\u001B[0m \u001B[38;5;129m@classmethod\u001B[39m\n\u001B[1;32m   2992\u001B[0m \u001B[38;5;28;01mdef\u001B[39;00m \u001B[38;5;21mfrom_callable\u001B[39m(\u001B[38;5;28mcls\u001B[39m, obj, \u001B[38;5;241m*\u001B[39m,\n\u001B[1;32m   2993\u001B[0m                   follow_wrapped\u001B[38;5;241m=\u001B[39m\u001B[38;5;28;01mTrue\u001B[39;00m, \u001B[38;5;28mglobals\u001B[39m\u001B[38;5;241m=\u001B[39m\u001B[38;5;28;01mNone\u001B[39;00m, \u001B[38;5;28mlocals\u001B[39m\u001B[38;5;241m=\u001B[39m\u001B[38;5;28;01mNone\u001B[39;00m, eval_str\u001B[38;5;241m=\u001B[39m\u001B[38;5;28;01mFalse\u001B[39;00m):\n\u001B[1;32m   2994\u001B[0m     \u001B[38;5;124;03m\"\"\"Constructs Signature for the given callable object.\"\"\"\u001B[39;00m\n\u001B[1;32m   2995\u001B[0m     \u001B[38;5;28;01mreturn\u001B[39;00m _signature_from_callable(obj, sigcls\u001B[38;5;241m=\u001B[39m\u001B[38;5;28mcls\u001B[39m,\n\u001B[1;32m   2996\u001B[0m                                     follow_wrapper_chains\u001B[38;5;241m=\u001B[39mfollow_wrapped,\n\u001B[1;32m   2997\u001B[0m                                     \u001B[38;5;28mglobals\u001B[39m\u001B[38;5;241m=\u001B[39m\u001B[38;5;28mglobals\u001B[39m, \u001B[38;5;28mlocals\u001B[39m\u001B[38;5;241m=\u001B[39m\u001B[38;5;28mlocals\u001B[39m, eval_str\u001B[38;5;241m=\u001B[39meval_str)\n",
      "\u001B[0;31mKeyboardInterrupt\u001B[0m: "
     ]
    }
   ],
   "source": [
    "print(recursive_test(3,data.copy(), criteria))"
   ],
   "metadata": {
    "collapsed": false
   }
  },
  {
   "cell_type": "code",
   "execution_count": null,
   "outputs": [],
   "source": [
    "# Attention, calcul assez long (3-5min)\n",
    "print(recursive_test(4, data.copy(), criteria))"
   ],
   "metadata": {
    "collapsed": false
   }
  },
  {
   "cell_type": "markdown",
   "source": [
    "## Question 1\n",
    "\n",
    "Dans la fonction `recursive_test` on essaye toutes les combinaisons possibles, permettant de ressortir le meilleur résultat avec une validation croisée. On constate donc que :\n",
    "    - Pour le modèle à deux variables il est plus préférable d'utiliser : `SibSp` et `split_Sexe_female`\n",
    "    - Pour le modèle à trois variables il est préférable d'utiliser : `SibSp`, `split_Sexe_female`, `is_child`\n",
    "    - Pour le modèle à quatre variables il est préférable d'utiliser : `Parch`, `split_Pclass_3`, `split_Sexe_female`, `is_child`"
   ],
   "metadata": {
    "collapsed": false
   }
  },
  {
   "cell_type": "code",
   "execution_count": null,
   "outputs": [],
   "source": [
    "def parse_model_4(dataset:pd.DataFrame):\n",
    "    X = dataset.copy()\n",
    "    target = X['Survived']\n",
    "    del X['Survived']\n",
    "\n",
    "    keepColumns = ['Parch','split_Pclass_3','split_Sexe_female','is_child']\n",
    "    for col in X.columns:\n",
    "        if col not in keepColumns:\n",
    "            del X[col]\n",
    "    return X,target\n",
    "\n",
    "encoder = OneHotEncoder()\n",
    "X,y = parse_model_4(data)\n",
    "X = encoder.fit_transform(X)\n",
    "# Pour plus de simplicité, on préfère transformer en dataframe et faire les opérations dessus\n",
    "X=pd.DataFrame(X.toarray(), columns=encoder.get_feature_names())\n",
    "\n",
    "initial_width = X.shape[1]\n",
    "partial_counter = 0\n",
    "dataset = pd.DataFrame()\n",
    "for i in range(0, initial_width):\n",
    "    for j in range(i, initial_width):\n",
    "        vals = X[X.columns[i]] * X[ X.columns[j]]\n",
    "        dataset[\"mul_\"+str(i)+\"_\"+str(j)] = vals\n",
    "        partial_counter += 1"
   ],
   "metadata": {
    "collapsed": false
   }
  },
  {
   "cell_type": "code",
   "execution_count": null,
   "outputs": [],
   "source": [
    "X=dataset\n",
    "lr = LogisticRegression()\n",
    "lr.fit(X,y)\n",
    "print(compute_score(lr,X,y))"
   ],
   "metadata": {
    "collapsed": false
   }
  },
  {
   "cell_type": "markdown",
   "source": [
    "## Question 4\n",
    "On note une légère augmentation du score, cependant ce n'est pas très flagrant"
   ],
   "metadata": {
    "collapsed": false
   }
  },
  {
   "cell_type": "code",
   "execution_count": 75,
   "outputs": [
    {
     "name": "stderr",
     "output_type": "stream",
     "text": [
      "/home/mithrandir/venv/lib/python3.10/site-packages/sklearn/utils/deprecation.py:87: FutureWarning: Function get_feature_names is deprecated; get_feature_names is deprecated in 1.0 and will be removed in 1.2. Please use get_feature_names_out instead.\n",
      "  warnings.warn(msg, category=FutureWarning)\n"
     ]
    }
   ],
   "source": [
    "# Tout comme la précédente question, on passe par un dataframe pour exécuter les opérations. On transforme les 0 en -1\n",
    "encoder = OneHotEncoder()\n",
    "X,y = parse_model_4(data)\n",
    "X = encoder.fit_transform(X)\n",
    "X=pd.DataFrame(X.toarray(), columns=encoder.get_feature_names())\n",
    "\n",
    "X = X.applymap(lambda x: x if x == 1 else -1)\n",
    "\n",
    "initial_width = X.shape[1]\n",
    "dataset = pd.DataFrame()\n",
    "for i in range(0, initial_width):\n",
    "    for j in range(i, initial_width):\n",
    "        vals = X[X.columns[i]] * X[ X.columns[j]]\n",
    "        dataset[\"mul_\"+str(i)+\"_\"+str(j)] = vals\n",
    "X=dataset"
   ],
   "metadata": {
    "collapsed": false
   }
  },
  {
   "cell_type": "code",
   "execution_count": 76,
   "outputs": [
    {
     "name": "stdout",
     "output_type": "stream",
     "text": [
      "0.813709120582512\n"
     ]
    }
   ],
   "source": [
    "lr = LogisticRegression(max_iter=10000)\n",
    "lr.fit(X,y)\n",
    "print(compute_score(lr,X,y))"
   ],
   "metadata": {
    "collapsed": false
   }
  },
  {
   "cell_type": "markdown",
   "source": [
    "## Question 7\n",
    "On constate que la précision du score est la même qu'avant"
   ],
   "metadata": {
    "collapsed": false
   }
  },
  {
   "cell_type": "markdown",
   "source": [
    "# Partie 6 : Random Forest"
   ],
   "metadata": {
    "collapsed": false
   }
  },
  {
   "cell_type": "code",
   "execution_count": 79,
   "outputs": [
    {
     "name": "stdout",
     "output_type": "stream",
     "text": [
      "0.8148641014374489\n"
     ]
    }
   ],
   "source": [
    "def parse_model_5(X):\n",
    "    target = X.Survived\n",
    "    to_del = ['Name', 'Cabin', 'Embarked', 'Survived', 'Ticket','Sex','Pclass']\n",
    "    for col in to_del:\n",
    "        del X[col]\n",
    "    return X, target\n",
    "\n",
    "def fix_missing_value(data):\n",
    "    X = data\n",
    "    X['Age'] = X['Age'].fillna(np.nanmedian(X['Age']))\n",
    "    class_dummies = pd.get_dummies(X['Pclass'], prefix='split_Pclass')\n",
    "    X = X.join(class_dummies)\n",
    "    class_dummies = pd.get_dummies(X['Sex'], prefix='split_sex')\n",
    "    X = X.join(class_dummies)\n",
    "    return X\n",
    "\n",
    "data = pd.read_csv('./data/titanic_train.csv', sep=',')\n",
    "data.set_index('PassengerId', inplace=True, drop=True)\n",
    "data = fix_missing_value(data)\n",
    "X,y = parse_model_5(data)\n",
    "\n",
    "rf = RandomForestClassifier()\n",
    "rf.fit(X,y)\n",
    "print(compute_score(rf, X,y))"
   ],
   "metadata": {
    "collapsed": false
   }
  },
  {
   "cell_type": "markdown",
   "source": [
    "## Question 2\n",
    "L'importance d'une variable est mesurée par la moyenne de la différence avant et après la permutation de la-dite variable dans l'out-bag-error. Cette moyenne est calculée dans tous les arbres."
   ],
   "metadata": {
    "collapsed": false
   }
  },
  {
   "cell_type": "code",
   "execution_count": 80,
   "outputs": [],
   "source": [
    "def classifier_importance(X, clf):\n",
    "    import pylab as pl\n",
    "    importances = clf.feature_importances_\n",
    "    indices = np.argsort(importances)[::-1]\n",
    "    pl.title(\"Feature importances\")\n",
    "    for tree in clf.estimators_:\n",
    "        pl.plot(range(X.shape[1]), tree.feature_importances_[indices], \"r\")\n",
    "    pl.plot(range(X.shape[1]), importances[indices], \"b\")\n",
    "    pl.show()\n",
    "    for f in range(X.shape[1]):\n",
    "        print(\"%d. feature : %s (%f)\" %\n",
    "            (f+1, X.columns[indices[f]], importances[indices[f]]))"
   ],
   "metadata": {
    "collapsed": false
   }
  },
  {
   "cell_type": "code",
   "execution_count": 81,
   "outputs": [
    {
     "data": {
      "text/plain": "<Figure size 432x288 with 1 Axes>",
      "image/png": "[encoded data removed]"
     },
     "metadata": {},
     "output_type": "display_data"
    },
    {
     "name": "stdout",
     "output_type": "stream",
     "text": [
      "1. feature : Fare (0.268464)\n",
      "2. feature : Age (0.260022)\n",
      "3. feature : split_sex_female (0.149643)\n",
      "4. feature : split_sex_male (0.145338)\n",
      "5. feature : split_Pclass_3 (0.054979)\n",
      "6. feature : SibSp (0.044637)\n",
      "7. feature : Parch (0.032894)\n",
      "8. feature : split_Pclass_1 (0.028675)\n",
      "9. feature : split_Pclass_2 (0.015348)\n"
     ]
    }
   ],
   "source": [
    "classifier_importance(X, rf)"
   ],
   "metadata": {
    "collapsed": false
   }
  },
  {
   "cell_type": "code",
   "execution_count": 83,
   "outputs": [
    {
     "data": {
      "text/plain": "<Figure size 432x288 with 1 Axes>",
      "image/png": "[encoded data removed]"
     },
     "metadata": {},
     "output_type": "display_data"
    }
   ],
   "source": [
    "result = permutation_importance(\n",
    "    rf, X, y, n_repeats=10, random_state=42, n_jobs=2\n",
    ")\n",
    "\n",
    "sorted_importances_idx = result.importances_mean.argsort()\n",
    "importances = pd.DataFrame(\n",
    "    result.importances[sorted_importances_idx].T,\n",
    "    columns=X.columns[sorted_importances_idx],\n",
    ")\n",
    "ax = importances.plot.box(vert=False, whis=10)\n",
    "ax.set_title(\"Permutation Importances\")\n",
    "ax.axvline(x=0, color=\"k\", linestyle=\"--\")\n",
    "ax.set_xlabel(\"Decrease in accuracy score\")\n",
    "ax.figure.tight_layout()"
   ],
   "metadata": {
    "collapsed": false
   }
  },
  {
   "cell_type": "markdown",
   "source": [
    "## Question 5\n",
    "Grâce au graphique ci-dessus on constate que Fare et Age sont très fort. Car à une permutation près, le score descend très rapidement. On note le même phénomène avec la variable `Age`.\n",
    "On note une faible baisse de score pour les autres variables : `Split_sex_male`, `split_Pclass_3`, `split_sex_female`, `SibSp`, `split_Pclass_1`, `Parch`, `split_Pclass_2`."
   ],
   "metadata": {
    "collapsed": false
   }
  },
  {
   "cell_type": "markdown",
   "source": [
    "# Partie 7 : Gradient Boosting"
   ],
   "metadata": {
    "collapsed": false
   }
  },
  {
   "cell_type": "code",
   "execution_count": 86,
   "outputs": [
    {
     "name": "stdout",
     "output_type": "stream",
     "text": [
      "Index(['Age', 'SibSp', 'Parch', 'Fare', 'split_Pclass_1', 'split_Pclass_2',\n",
      "       'split_Pclass_3', 'split_sex_female', 'split_sex_male'],\n",
      "      dtype='object')\n",
      "0.8237900947837549\n"
     ]
    }
   ],
   "source": [
    "from sklearn.ensemble import GradientBoostingClassifier\n",
    "\n",
    "def parse_model_6(X):\n",
    "    target = X.Survived\n",
    "    to_del = ['Name', 'Cabin', 'Embarked', 'Survived', 'Ticket']\n",
    "    for col in to_del:\n",
    "        del X[col]\n",
    "    return X, target\n",
    "\n",
    "def fix_missing_value(data):\n",
    "    X = data.copy()\n",
    "    X['Age'] = X['Age'].fillna(np.nanmedian(X['Age']))\n",
    "    class_dummies = pd.get_dummies(X['Pclass'], prefix='split_Pclass')\n",
    "    X = X.join(class_dummies)\n",
    "    class_dummies = pd.get_dummies(X['Sex'], prefix='split_sex')\n",
    "    X = X.join(class_dummies)\n",
    "    del X['Sex']\n",
    "    del X['Pclass']\n",
    "    return X\n",
    "\n",
    "data = pd.read_csv('./data/titanic_train.csv', sep=',')\n",
    "data.set_index('PassengerId', inplace=True, drop=True)\n",
    "data = fix_missing_value(data)\n",
    "X,y = parse_model_6(data)\n",
    "\n",
    "print(X.columns)\n",
    "\n",
    "gb = GradientBoostingClassifier()\n",
    "gb.fit(X,y)\n",
    "print(compute_score(gb,X,y))"
   ],
   "metadata": {
    "collapsed": false
   }
  },
  {
   "cell_type": "markdown",
   "source": [
    "## Question 1\n",
    "\n",
    "On constate une meilleure précision du score de prédiction pour le gradient boosting.\n",
    "La différence entre random forest et le gradient boosting s'explique par le fait que gradient boosting va construire des arbres un à un et propager les erreurs des arbres precedent (afin d'éviter de refaire la même erreur) contrairement à random forest ou les arbres sont construits indépendamment les uns des autres et qui fait une moyenne des erreurs."
   ],
   "metadata": {
    "collapsed": false
   }
  },
  {
   "cell_type": "code",
   "execution_count": null,
   "outputs": [],
   "source": [],
   "metadata": {
    "collapsed": false
   }
  }
 ],
 "metadata": {
  "kernelspec": {
   "display_name": "Python 3",
   "language": "python",
   "name": "python3"
  },
  "language_info": {
   "codemirror_mode": {
    "name": "ipython",
    "version": 2
   },
   "file_extension": ".py",
   "mimetype": "text/x-python",
   "name": "python",
   "nbconvert_exporter": "python",
   "pygments_lexer": "ipython2",
   "version": "2.7.6"
  }
 },
 "nbformat": 4,
 "nbformat_minor": 0
}
